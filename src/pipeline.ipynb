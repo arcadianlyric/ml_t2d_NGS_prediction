{
 "cells": [
  {
   "cell_type": "markdown",
   "metadata": {},
   "source": [
    "### Predict Type 2 diabetes with genomics data II\n",
    "by SVM, RandomForest, KNeighborsClassifier"
   ]
  },
  {
   "cell_type": "code",
   "execution_count": 37,
   "metadata": {},
   "outputs": [],
   "source": [
    "import pandas as pd\n",
    "import numpy as np\n",
    "from sklearn.model_selection import learning_curve, train_test_split,GridSearchCV\n",
    "from sklearn.preprocessing import StandardScaler\n",
    "from sklearn.pipeline import Pipeline\n",
    "from sklearn.metrics import accuracy_score\n",
    "from sklearn.svm import SVC\n",
    "from sklearn.ensemble import RandomForestClassifier\n",
    "from sklearn.neighbors import KNeighborsClassifier\n",
    "\n",
    "import seaborn as sns\n",
    "import matplotlib.pyplot as plt\n",
    "%matplotlib inline\n",
    "import warnings\n",
    "warnings.filterwarnings(\"ignore\") "
   ]
  },
  {
   "cell_type": "code",
   "execution_count": 38,
   "metadata": {},
   "outputs": [],
   "source": [
    "### Read in data\n",
    "df = pd.read_csv('../data/top500pcaGene.csv')"
   ]
  },
  {
   "cell_type": "code",
   "execution_count": 4,
   "metadata": {},
   "outputs": [
    {
     "data": {
      "text/html": [
       "<div>\n",
       "<style scoped>\n",
       "    .dataframe tbody tr th:only-of-type {\n",
       "        vertical-align: middle;\n",
       "    }\n",
       "\n",
       "    .dataframe tbody tr th {\n",
       "        vertical-align: top;\n",
       "    }\n",
       "\n",
       "    .dataframe thead th {\n",
       "        text-align: right;\n",
       "    }\n",
       "</style>\n",
       "<table border=\"1\" class=\"dataframe\">\n",
       "  <thead>\n",
       "    <tr style=\"text-align: right;\">\n",
       "      <th></th>\n",
       "      <th>t2d</th>\n",
       "      <th>5260</th>\n",
       "      <th>100873336</th>\n",
       "      <th>4555</th>\n",
       "      <th>1487</th>\n",
       "      <th>2641</th>\n",
       "      <th>4571</th>\n",
       "      <th>4519</th>\n",
       "      <th>11067</th>\n",
       "      <th>4577</th>\n",
       "      <th>...</th>\n",
       "      <th>93986</th>\n",
       "      <th>55089</th>\n",
       "      <th>26118</th>\n",
       "      <th>7072</th>\n",
       "      <th>837</th>\n",
       "      <th>286257</th>\n",
       "      <th>92255</th>\n",
       "      <th>1452</th>\n",
       "      <th>4832</th>\n",
       "      <th>10171</th>\n",
       "    </tr>\n",
       "  </thead>\n",
       "  <tbody>\n",
       "    <tr>\n",
       "      <th>0</th>\n",
       "      <td>0</td>\n",
       "      <td>0.000000</td>\n",
       "      <td>0.000000</td>\n",
       "      <td>0.000000</td>\n",
       "      <td>3.322937</td>\n",
       "      <td>10.815594</td>\n",
       "      <td>4.808866</td>\n",
       "      <td>7.037647</td>\n",
       "      <td>0.0</td>\n",
       "      <td>4.109481</td>\n",
       "      <td>...</td>\n",
       "      <td>0.0</td>\n",
       "      <td>5.075939</td>\n",
       "      <td>4.855219</td>\n",
       "      <td>1.789240</td>\n",
       "      <td>0.0</td>\n",
       "      <td>0.0</td>\n",
       "      <td>4.891742</td>\n",
       "      <td>5.580920</td>\n",
       "      <td>2.386135</td>\n",
       "      <td>0.000000</td>\n",
       "    </tr>\n",
       "    <tr>\n",
       "      <th>1</th>\n",
       "      <td>0</td>\n",
       "      <td>0.000000</td>\n",
       "      <td>3.400627</td>\n",
       "      <td>0.000000</td>\n",
       "      <td>2.284452</td>\n",
       "      <td>11.641512</td>\n",
       "      <td>5.379671</td>\n",
       "      <td>7.540405</td>\n",
       "      <td>0.0</td>\n",
       "      <td>5.365140</td>\n",
       "      <td>...</td>\n",
       "      <td>0.0</td>\n",
       "      <td>2.405160</td>\n",
       "      <td>3.903509</td>\n",
       "      <td>3.277050</td>\n",
       "      <td>0.0</td>\n",
       "      <td>0.0</td>\n",
       "      <td>0.000000</td>\n",
       "      <td>4.254837</td>\n",
       "      <td>0.000000</td>\n",
       "      <td>5.214127</td>\n",
       "    </tr>\n",
       "    <tr>\n",
       "      <th>2</th>\n",
       "      <td>0</td>\n",
       "      <td>3.492573</td>\n",
       "      <td>2.642864</td>\n",
       "      <td>4.768249</td>\n",
       "      <td>2.348791</td>\n",
       "      <td>10.814974</td>\n",
       "      <td>5.679429</td>\n",
       "      <td>8.156457</td>\n",
       "      <td>0.0</td>\n",
       "      <td>4.753775</td>\n",
       "      <td>...</td>\n",
       "      <td>0.0</td>\n",
       "      <td>4.323108</td>\n",
       "      <td>4.587719</td>\n",
       "      <td>3.748767</td>\n",
       "      <td>0.0</td>\n",
       "      <td>0.0</td>\n",
       "      <td>0.000000</td>\n",
       "      <td>5.637185</td>\n",
       "      <td>1.899896</td>\n",
       "      <td>1.480695</td>\n",
       "    </tr>\n",
       "  </tbody>\n",
       "</table>\n",
       "<p>3 rows × 501 columns</p>\n",
       "</div>"
      ],
      "text/plain": [
       "   t2d      5260  100873336      4555      1487       2641      4571  \\\n",
       "0    0  0.000000   0.000000  0.000000  3.322937  10.815594  4.808866   \n",
       "1    0  0.000000   3.400627  0.000000  2.284452  11.641512  5.379671   \n",
       "2    0  3.492573   2.642864  4.768249  2.348791  10.814974  5.679429   \n",
       "\n",
       "       4519  11067      4577    ...     93986     55089     26118      7072  \\\n",
       "0  7.037647    0.0  4.109481    ...       0.0  5.075939  4.855219  1.789240   \n",
       "1  7.540405    0.0  5.365140    ...       0.0  2.405160  3.903509  3.277050   \n",
       "2  8.156457    0.0  4.753775    ...       0.0  4.323108  4.587719  3.748767   \n",
       "\n",
       "   837  286257     92255      1452      4832     10171  \n",
       "0  0.0     0.0  4.891742  5.580920  2.386135  0.000000  \n",
       "1  0.0     0.0  0.000000  4.254837  0.000000  5.214127  \n",
       "2  0.0     0.0  0.000000  5.637185  1.899896  1.480695  \n",
       "\n",
       "[3 rows x 501 columns]"
      ]
     },
     "execution_count": 4,
     "metadata": {},
     "output_type": "execute_result"
    }
   ],
   "source": [
    "df.head(3)"
   ]
  },
  {
   "cell_type": "code",
   "execution_count": 39,
   "metadata": {},
   "outputs": [],
   "source": [
    "y = df['t2d'].values\n",
    "X = df.drop(['t2d'], axis=1)"
   ]
  },
  {
   "cell_type": "code",
   "execution_count": 40,
   "metadata": {},
   "outputs": [],
   "source": [
    "### Split train, test\n",
    "train_x, test_x, train_y, test_y = train_test_split(X, y, test_size = 0.2, random_state=42)"
   ]
  },
  {
   "cell_type": "markdown",
   "metadata": {
    "collapsed": true
   },
   "source": [
    "### pipeline\n",
    "model ensemble with GridSearchCV"
   ]
  },
  {
   "cell_type": "code",
   "execution_count": 45,
   "metadata": {},
   "outputs": [],
   "source": [
    "def GridSearchCV_run(pipeline, train_x, train_y, test_x, test_y, param_grid, score = 'accuracy'):\n",
    "    result = {}\n",
    "    gridsearch = GridSearchCV(estimator = pipeline, param_grid = param_grid, scoring = score)\n",
    "    # gridsearch split train to train and test for cv\n",
    "    search = gridsearch.fit(train_x, train_y) \n",
    "    print(\"GridSearchCV best score： %0.3lf\" % search.best_score_)\n",
    "    print(\"GridSearchCV best params：\", search.best_params_)\n",
    "    \n",
    "    predict_y = gridsearch.predict(test_x)\n",
    "    print(\"accuracy %0.3lf\" % accuracy_score(test_y, predict_y))\n",
    "    result['predict_y'] = predict_y\n",
    "    result['accuracy_score'] = accuracy_score(test_y, predict_y)\n",
    "    \n",
    "    return result\n",
    " "
   ]
  },
  {
   "cell_type": "code",
   "execution_count": 46,
   "metadata": {},
   "outputs": [],
   "source": [
    "clf = [   \n",
    "    RandomForestClassifier(random_state = 42, criterion = 'gini'),\n",
    "    KNeighborsClassifier(metric = 'minkowski'),\n",
    "    SVC(random_state = 42), ]\n",
    "\n",
    "clf_names = [ \n",
    "            'random_forest',\n",
    "            'kneighbor',\n",
    "            'svc',]\n",
    "\n",
    "clf_param = [\n",
    "            {'random_forest__n_estimators':[1000], 'random_forest__max_features':[20]} ,\n",
    "            {'kneighbor__n_neighbors':np.arange(1, 30)},\n",
    "            {'svc__C':10.0 ** np.arange(-2, 2), 'svc__gamma':10.0 ** np.arange(-5, 1)},]"
   ]
  },
  {
   "cell_type": "code",
   "execution_count": 47,
   "metadata": {},
   "outputs": [
    {
     "name": "stdout",
     "output_type": "stream",
     "text": [
      "GridSearchCV best score： 0.860\n",
      "GridSearchCV best params： {'random_forest__n_estimators': 1000, 'random_forest__max_features': 20}\n",
      "accuracy 0.905\n",
      "GridSearchCV best score： 0.742\n",
      "GridSearchCV best params： {'kneighbor__n_neighbors': 9}\n",
      "accuracy 0.779\n",
      "GridSearchCV best score： 0.817\n",
      "GridSearchCV best params： {'svc__gamma': 0.001, 'svc__C': 1.0}\n",
      "accuracy 0.911\n"
     ]
    }
   ],
   "source": [
    "for model, model_name, model_param in zip(clf, clf_names, clf_param):\n",
    "    pipeline = Pipeline([\n",
    "            ('scaler', StandardScaler()),\n",
    "            (model_name, model)\n",
    "    ])\n",
    "    result = GridSearchCV_run(pipeline, train_x, train_y, test_x, test_y, model_param , score = 'accuracy')\n"
   ]
  },
  {
   "cell_type": "markdown",
   "metadata": {},
   "source": [
    "#### SVM method improved accuracy by normalization with StandardScaler"
   ]
  },
  {
   "cell_type": "code",
   "execution_count": null,
   "metadata": {},
   "outputs": [],
   "source": []
  }
 ],
 "metadata": {
  "anaconda-cloud": {},
  "kernelspec": {
   "display_name": "Python [default]",
   "language": "python",
   "name": "python3"
  },
  "language_info": {
   "codemirror_mode": {
    "name": "ipython",
    "version": 3
   },
   "file_extension": ".py",
   "mimetype": "text/x-python",
   "name": "python",
   "nbconvert_exporter": "python",
   "pygments_lexer": "ipython3",
   "version": "3.5.5"
  }
 },
 "nbformat": 4,
 "nbformat_minor": 1
}
